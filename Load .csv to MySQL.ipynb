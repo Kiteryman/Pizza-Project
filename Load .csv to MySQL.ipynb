{
 "cells": [
  {
   "cell_type": "markdown",
   "id": "f4ef690d",
   "metadata": {},
   "source": [
    "# Load .csv to MySQL"
   ]
  },
  {
   "cell_type": "code",
   "execution_count": 20,
   "id": "39b7da9d",
   "metadata": {},
   "outputs": [
    {
     "name": "stdout",
     "output_type": "stream",
     "text": [
      "Data loaded successfully.\n",
      "MySQL connection is closed.\n"
     ]
    }
   ],
   "source": [
    "import pandas as pd\n",
    "import mysql.connector\n",
    "from mysql.connector import Error\n",
    "\n",
    "# Define the CSV file path and MySQL connection details\n",
    "csv_file_path = 'Your Own Location' # For pizzas, pizza_type, orders and order_details csv\n",
    "host = 'localhost'\n",
    "database = 'Pizza_Sales'\n",
    "user = 'root'\n",
    "password = 'password'\n",
    "\n",
    "# Read the CSV file into a DataFrame with latin1 encoding\n",
    "df = pd.read_csv(csv_file_path, encoding='latin1')\n",
    "\n",
    "# Replace NaN values with None\n",
    "df = df.where(pd.notnull(df), None)\n",
    "\n",
    "try:\n",
    "    # Establish a MySQL connection\n",
    "    connection = mysql.connector.connect(\n",
    "        host=host,\n",
    "        database=database,\n",
    "        user=user,\n",
    "        password=password,\n",
    "        charset='utf8mb4'\n",
    "    )\n",
    "\n",
    "    if connection.is_connected():\n",
    "        cursor = connection.cursor()\n",
    "\n",
    "        # Iterate through the DataFrame and insert data into the MySQL table\n",
    "        for i, row in df.iterrows(): # Example: order_details\n",
    "            sql = \"INSERT INTO order_details (order_details_id, order_id, pizza_id, quantity) VALUES (%s, %s, %s, %s)\"\n",
    "            cursor.execute(sql, tuple(row))\n",
    "\n",
    "        connection.commit()\n",
    "        print(\"Data loaded successfully.\")\n",
    "\n",
    "except Error as e:\n",
    "    print(f\"Error: {e}\")\n",
    "\n",
    "finally:\n",
    "    if connection.is_connected():\n",
    "        cursor.close()\n",
    "        connection.close()\n",
    "        print(\"MySQL connection is closed.\")\n"
   ]
  },
  {
   "cell_type": "code",
   "execution_count": null,
   "id": "74e9f180",
   "metadata": {},
   "outputs": [],
   "source": []
  },
  {
   "cell_type": "code",
   "execution_count": null,
   "id": "d642832b",
   "metadata": {},
   "outputs": [],
   "source": []
  }
 ],
 "metadata": {
  "kernelspec": {
   "display_name": "Python 3 (ipykernel)",
   "language": "python",
   "name": "python3"
  },
  "language_info": {
   "codemirror_mode": {
    "name": "ipython",
    "version": 3
   },
   "file_extension": ".py",
   "mimetype": "text/x-python",
   "name": "python",
   "nbconvert_exporter": "python",
   "pygments_lexer": "ipython3",
   "version": "3.11.5"
  }
 },
 "nbformat": 4,
 "nbformat_minor": 5
}
